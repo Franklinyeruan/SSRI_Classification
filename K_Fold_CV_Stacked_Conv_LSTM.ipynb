{
  "nbformat": 4,
  "nbformat_minor": 0,
  "metadata": {
    "colab": {
      "name": "K-Fold CV Stacked Conv-LSTM.ipynb",
      "provenance": [],
      "mount_file_id": "1e_ug8NIzU7c7IeuuQaCHE_QSyZV30XX3",
      "authorship_tag": "ABX9TyM4vFK+MyEITpBcRd99gH0L",
      "include_colab_link": true
    },
    "kernelspec": {
      "name": "python3",
      "display_name": "Python 3"
    },
    "language_info": {
      "name": "python"
    },
    "accelerator": "TPU"
  },
  "cells": [
    {
      "cell_type": "markdown",
      "metadata": {
        "id": "view-in-github",
        "colab_type": "text"
      },
      "source": [
        "<a href=\"https://colab.research.google.com/github/Franklinyeruan/SSRI_Classification/blob/main/K_Fold_CV_Stacked_Conv_LSTM.ipynb\" target=\"_parent\"><img src=\"https://colab.research.google.com/assets/colab-badge.svg\" alt=\"Open In Colab\"/></a>"
      ]
    },
    {
      "cell_type": "markdown",
      "source": [
        "### Hello There! \n",
        "@author: Franklin Ruan, 11 Jan 22\n",
        "This notebook contains the code for the paper:  <br> [ Soon to be published. Journal: Journal of the American Medical Association Open Network]"
      ],
      "metadata": {
        "id": "PD9KIKMQhqwW"
      }
    },
    {
      "cell_type": "markdown",
      "source": [
        "## K-Fold CV Stacked Conv-LSTM Model "
      ],
      "metadata": {
        "id": "cWF8UhEhRMZP"
      }
    },
    {
      "cell_type": "markdown",
      "source": [
        "# Set up and Installation"
      ],
      "metadata": {
        "id": "IzzQjVsLRRuR"
      }
    },
    {
      "cell_type": "markdown",
      "source": [
        "Import Libraries"
      ],
      "metadata": {
        "id": "1w7wfhXqR9lf"
      }
    },
    {
      "cell_type": "code",
      "execution_count": 2,
      "metadata": {
        "id": "ShVOAyvLRD_v"
      },
      "outputs": [],
      "source": [
        "# Packages\n",
        "import pandas as pd\n",
        "import matplotlib.pyplot as plt\n",
        "import numpy as np\n",
        "import random\n",
        "import tensorflow as tf\n",
        "import os\n",
        "\n",
        "# Sklearn\n",
        "from sklearn.preprocessing import MinMaxScaler\n",
        "from sklearn.preprocessing import StandardScaler\n",
        "from sklearn.model_selection import train_test_split\n",
        "from sklearn.utils import class_weight\n",
        "\n",
        "# Keras\n",
        "from keras.models import Sequential\n",
        "from keras.layers import LSTM, Dense, Dropout\n",
        "from keras.layers.embeddings import Embedding\n",
        "from keras.metrics import AUC\n",
        "\n",
        "# Tf\n",
        "import tensorflow as tf\n",
        "from tensorflow import keras\n",
        "from tensorflow.keras import layers\n",
        "from tensorflow.keras.models import Sequential\n",
        "import random"
      ]
    },
    {
      "cell_type": "markdown",
      "source": [
        "Seed"
      ],
      "metadata": {
        "id": "CG1IS5pFR-d2"
      }
    },
    {
      "cell_type": "code",
      "source": [
        "# Random Seed Generation\n",
        "r1 = random.randint(0,100)\n",
        "r2 = random.randint(0,100)\n",
        "\n",
        "# Set Random Seed\n",
        "random.seed(r1)\n",
        "tf.random.set_seed(r2)"
      ],
      "metadata": {
        "id": "F1SSPAQWRxXQ"
      },
      "execution_count": 3,
      "outputs": []
    },
    {
      "cell_type": "markdown",
      "source": [
        "TPU configuration: Ensure that you are connected to a TPU. "
      ],
      "metadata": {
        "id": "PNSwh1jeSBAk"
      }
    },
    {
      "cell_type": "code",
      "source": [
        "# @title TPU Configuration\n",
        "resolver = tf.distribute.cluster_resolver.TPUClusterResolver(tpu='')\n",
        "tf.config.experimental_connect_to_cluster(resolver)\n",
        "# This is the TPU initialization code that has to be at the beginning.\n",
        "tf.tpu.experimental.initialize_tpu_system(resolver)\n",
        "print(\"All devices: \", tf.config.list_logical_devices('TPU'))\n",
        "\n",
        "# ----------\n",
        "a = tf.constant([[1.0, 2.0, 3.0], [4.0, 5.0, 6.0]])\n",
        "b = tf.constant([[1.0, 2.0], [3.0, 4.0], [5.0, 6.0]])\n",
        "\n",
        "with tf.device('/TPU:0'):\n",
        "  c = tf.matmul(a, b)\n",
        "\n",
        "print(\"c device: \", c.device)\n",
        "print(c)\n",
        "# ----------\n",
        "\n",
        "strategy = tf.distribute.TPUStrategy(resolver)\n",
        "\n",
        "# ----------\n",
        "@tf.function\n",
        "def matmul_fn(x, y):\n",
        "  z = tf.matmul(x, y)\n",
        "  return z\n",
        "\n",
        "z = strategy.run(matmul_fn, args=(a, b))\n",
        "print(z)"
      ],
      "metadata": {
        "id": "Y4fQlJYsSCF8"
      },
      "execution_count": null,
      "outputs": []
    },
    {
      "cell_type": "markdown",
      "source": [
        "# Data Processing "
      ],
      "metadata": {
        "id": "6yx1mlI3TEV5"
      }
    },
    {
      "cell_type": "markdown",
      "source": [
        "Load Data. Please ensure you are mounted to Google Drive"
      ],
      "metadata": {
        "id": "8qOeAs9nTHFv"
      }
    },
    {
      "cell_type": "code",
      "source": [
        "# Load Data X\n",
        "Wide_X = pd.read_csv('/content/drive/MyDrive/Colab Notebooks/Heinz SSRI Classification/Data/All_Smooth_Wide_X.csv')"
      ],
      "metadata": {
        "id": "eOTU54rDTF_M"
      },
      "execution_count": 6,
      "outputs": []
    },
    {
      "cell_type": "code",
      "source": [
        "# Process X --------\n",
        "\n",
        "# Drop Unnamed Column \n",
        "Wide_X = Wide_X.drop(\"Unnamed: 0\", axis = 1)\n",
        "data_wide = Wide_X\n",
        "\n",
        "# Standard Scalar\n",
        "scaler = StandardScaler()\n",
        "scaler.fit(data_wide)\n",
        "data_wide = scaler.transform(data_wide)\n",
        "\n",
        "# Convert DF to array\n",
        "data_wide = np.array(data_wide)"
      ],
      "metadata": {
        "id": "2Lmq_4FaTscf"
      },
      "execution_count": 8,
      "outputs": []
    },
    {
      "cell_type": "code",
      "source": [
        "# Load Data Y\n",
        "Y = pd.read_csv('/content/drive/MyDrive/Colab Notebooks/Heinz SSRI Classification/Data/All_Smooth_Y.csv')"
      ],
      "metadata": {
        "id": "ljocU4yqT8h9"
      },
      "execution_count": 10,
      "outputs": []
    },
    {
      "cell_type": "code",
      "source": [
        "# Process Y --------\n",
        "# Drop Unnamed Column \n",
        "Y = Y.drop(\"Unnamed: 0\", axis = 1)\n",
        "Y.head()\n",
        "\n",
        "# Change to Y Float \n",
        "Y['SSRI'] = Y['Medication'].apply(lambda x: float(x)) \n",
        "\n",
        "#Make y array as well \n",
        "y = np.hstack(np.asarray(Y.SSRI)).reshape(len(Y),1)"
      ],
      "metadata": {
        "id": "IXwnztnSUTDT"
      },
      "execution_count": null,
      "outputs": []
    },
    {
      "cell_type": "code",
      "source": [
        "# Shape Analysis \n",
        "print(\"shape of X:\", data_wide.shape)\n",
        "print(\"shape of y:\", y.shape)"
      ],
      "metadata": {
        "colab": {
          "base_uri": "https://localhost:8080/"
        },
        "id": "9h04HzOTUhXo",
        "outputId": "ab77deb0-6c43-4d98-8753-e831e6febde6"
      },
      "execution_count": 15,
      "outputs": [
        {
          "output_type": "stream",
          "name": "stdout",
          "text": [
            "shape of X: (7162, 10080)\n",
            "shape of y: (7162, 1)\n"
          ]
        }
      ]
    },
    {
      "cell_type": "markdown",
      "source": [
        "Create a held out test set"
      ],
      "metadata": {
        "id": "BI1GgyOpUwkl"
      }
    },
    {
      "cell_type": "code",
      "source": [
        "# Train Test Split (keep random state in check)\n",
        "X_train, X_test, y_train, y_test = train_test_split(data_wide, y, test_size=0.2, stratify=y, random_state = 19)\n",
        "\n",
        "# Dimentions\n",
        "n_steps, n_length, n_width = 7, 24, 60  \n",
        "n_features = 1 \n",
        "\n",
        "# Reshape Train and Test \n",
        "X_train = X_train.reshape((X_train.shape[0], n_steps, n_length, n_width, n_features))\n",
        "X_test = X_test.reshape((X_test.shape[0], n_steps, n_length, n_width, n_features))"
      ],
      "metadata": {
        "id": "JoH8XUyqVDA8"
      },
      "execution_count": 16,
      "outputs": []
    },
    {
      "cell_type": "markdown",
      "source": [
        "Graphical Analysis "
      ],
      "metadata": {
        "id": "hD1Pc_RmZH2Y"
      }
    },
    {
      "cell_type": "code",
      "source": [
        "for day in range(0,7):\n",
        "  sli = X_train[11, day, 0:23, 0:59, 0]\n",
        "  print(\"day:\", day + 1)\n",
        "  plt.imshow(sli, interpolation='none', vmin=0, vmax=.39)\n",
        "  plt.colorbar(orientation='vertical')\n",
        "  plt.title(\"Activity on Day \" + str(day+1))\n",
        "  plt.xlabel(\"Minute\")\n",
        "  plt.ylabel(\"Hour\")\n",
        "  plt.show()"
      ],
      "metadata": {
        "colab": {
          "base_uri": "https://localhost:8080/",
          "height": 1000
        },
        "id": "kWFt05rRY6NY",
        "outputId": "9df416d4-fefd-4d6e-d21a-4dd282fda556"
      },
      "execution_count": 27,
      "outputs": [
        {
          "output_type": "stream",
          "name": "stdout",
          "text": [
            "day: 1\n"
          ]
        },
        {
          "output_type": "display_data",
          "data": {
            "image/png": "[encoded data removed]",
            "text/plain": [
              "<Figure size 432x288 with 2 Axes>"
            ]
          },
          "metadata": {
            "needs_background": "light"
          }
        },
        {
          "output_type": "stream",
          "name": "stdout",
          "text": [
            "day: 2\n"
          ]
        },
        {
          "output_type": "display_data",
          "data": {
            "image/png": "[encoded data removed]",
            "text/plain": [
              "<Figure size 432x288 with 2 Axes>"
            ]
          },
          "metadata": {
            "needs_background": "light"
          }
        },
        {
          "output_type": "stream",
          "name": "stdout",
          "text": [
            "day: 3\n"
          ]
        },
        {
          "output_type": "display_data",
          "data": {
            "image/png": "[encoded data removed]",
            "text/plain": [
              "<Figure size 432x288 with 2 Axes>"
            ]
          },
          "metadata": {
            "needs_background": "light"
          }
        },
        {
          "output_type": "stream",
          "name": "stdout",
          "text": [
            "day: 4\n"
          ]
        },
        {
          "output_type": "display_data",
          "data": {
            "image/png": "[encoded data removed]",
            "text/plain": [
              "<Figure size 432x288 with 2 Axes>"
            ]
          },
          "metadata": {
            "needs_background": "light"
          }
        },
        {
          "output_type": "stream",
          "name": "stdout",
          "text": [
            "day: 5\n"
          ]
        },
        {
          "output_type": "display_data",
          "data": {
            "image/png": "[encoded data removed]",
            "text/plain": [
              "<Figure size 432x288 with 2 Axes>"
            ]
          },
          "metadata": {
            "needs_background": "light"
          }
        },
        {
          "output_type": "stream",
          "name": "stdout",
          "text": [
            "day: 6\n"
          ]
        },
        {
          "output_type": "display_data",
          "data": {
            "image/png": "[encoded data removed]",
            "text/plain": [
              "<Figure size 432x288 with 2 Axes>"
            ]
          },
          "metadata": {
            "needs_background": "light"
          }
        },
        {
          "output_type": "stream",
          "name": "stdout",
          "text": [
            "day: 7\n"
          ]
        },
        {
          "output_type": "display_data",
          "data": {
            "image/png": "[encoded data removed]",
            "text/plain": [
              "<Figure size 432x288 with 2 Axes>"
            ]
          },
          "metadata": {
            "needs_background": "light"
          }
        }
      ]
    },
    {
      "cell_type": "markdown",
      "source": [
        "# Model Architecture "
      ],
      "metadata": {
        "id": "MK6Ia1wXX1aQ"
      }
    },
    {
      "cell_type": "markdown",
      "source": [
        "Import certain files from Keras "
      ],
      "metadata": {
        "id": "YJ1Z8SjSYEXk"
      }
    },
    {
      "cell_type": "code",
      "source": [
        "# Import Layers\n",
        "from keras.layers import ConvLSTM2D\n",
        "from keras.layers import Dense\n",
        "from keras.layers import Flatten\n",
        "from keras.layers import Dropout\n",
        "from keras.layers import LSTM\n",
        "from keras.layers import Activation\n",
        "from keras.layers import TimeDistributed\n",
        "from keras.layers.convolutional import Conv1D\n",
        "from keras.layers.convolutional import MaxPooling1D\n",
        "from keras.layers.convolutional import MaxPooling3D"
      ],
      "metadata": {
        "id": "1ShU0hDYXrDd"
      },
      "execution_count": 17,
      "outputs": []
    },
    {
      "cell_type": "code",
      "source": [
        "# Model Structure\n",
        "def create_model():\n",
        "  model = Sequential()\n",
        "  \n",
        "  # Conv Layers \n",
        "  model.add(ConvLSTM2D(filters=32, kernel_size=(5,5), activation='relu', input_shape=(n_steps, n_length, n_width, n_features) ,return_sequences=True) )\n",
        "  model.add(Activation('relu'))\n",
        "  model.add(MaxPooling3D(pool_size=(1, 2, 2)))\n",
        "  model.add(ConvLSTM2D(filters=64, kernel_size=(2, 2), padding='valid', return_sequences= False))\n",
        "\n",
        "  # Feed Forward Layers \n",
        "  model.add(Dropout(0.2))\n",
        "  model.add(Flatten())\n",
        "  model.add(tf.keras.layers.Dropout(rate=0.2))\n",
        "  model.add(Dense(100, activation='relu'))\n",
        "  model.add(tf.keras.layers.Dense(1, activation='sigmoid'))\n",
        "\n",
        "  return model"
      ],
      "metadata": {
        "id": "GYEzaQxSYUvX"
      },
      "execution_count": 18,
      "outputs": []
    },
    {
      "cell_type": "markdown",
      "source": [
        "# Model Compilation & Fitting "
      ],
      "metadata": {
        "id": "HLH5N9_8Z_Ys"
      }
    },
    {
      "cell_type": "code",
      "source": [
        "# Compile the model -----\n",
        "\n",
        "with strategy.scope():\n",
        "  # Create the model we defined above\n",
        "  model = create_model()\n",
        "  # Compile \n",
        "  model.compile(\n",
        "    # Metrics \n",
        "    loss= tf.keras.losses.BinaryCrossentropy(from_logits=False),\n",
        "    metrics= tf.keras.metrics.AUC(),\n",
        "    # Optimizer \n",
        "    optimizer= tf.keras.optimizers.Adam(\n",
        "      learning_rate=0.00001,\n",
        "      beta_1=0.9,\n",
        "      beta_2=0.999,\n",
        "      epsilon=1e-07,\n",
        "      amsgrad=False,\n",
        "    )\n",
        ")"
      ],
      "metadata": {
        "id": "W0YuZKfeaBIi"
      },
      "execution_count": 29,
      "outputs": []
    },
    {
      "cell_type": "markdown",
      "source": [
        "Fit the model"
      ],
      "metadata": {
        "id": "DZFiRi-Xba6j"
      }
    },
    {
      "cell_type": "code",
      "source": [
        "%%time\n",
        "# Balance Weights \n",
        "class_weights = {0: (266/7162),  # Custom Setting Class Weights \n",
        "                1: (6896/7162)}\n",
        "\n",
        "# Fit the Model \n",
        "history = model.fit(\n",
        "    X_train, y_train,\n",
        "    epochs=90, \n",
        "    batch_size= 64,  \n",
        "    validation_split=0.2,\n",
        "    shuffle=False,\n",
        "    class_weight=class_weights\n",
        ")"
      ],
      "metadata": {
        "id": "J_dPCJD3bOKJ"
      },
      "execution_count": null,
      "outputs": []
    },
    {
      "cell_type": "markdown",
      "source": [
        "#Note for future \n",
        "- Implement Early Stopping\n",
        "- Save model h5 files into a folder (for george) \n",
        "- Save model output files (for michael to bootstrap)\n",
        "- Create a CV loop"
      ],
      "metadata": {
        "id": "4yJesTgXd6zS"
      }
    }
  ]
}